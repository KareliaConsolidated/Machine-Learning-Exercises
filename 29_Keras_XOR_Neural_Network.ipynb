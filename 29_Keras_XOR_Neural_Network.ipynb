{
 "cells": [
  {
   "cell_type": "markdown",
   "metadata": {},
   "source": [
    "## Neural Network in Keras: XOR Quiz\n",
    "\n",
    "Let's start with the simplest example. In this quiz you will build a simple multi-layer feedforward neural network to solve the **XOR** problem.\n",
    "\n",
    "1. Set the first layer to a **Dense()** layer with an output width of **32 nodes** and the **input_dim** set to the size of the training samples (in this case 2).\n",
    "2. Add a **tanh** activation function.\n",
    "3. Set the output layer **width** to 1, since the output has only two classes. (We can use 0 for one class and 1 for the other)\n",
    "4. Use a **sigmoid** activation function after the output layer.\n",
    "5. Run the model for **50 epochs**.\n",
    "\n",
    "**NOTE:** This should give you an accuracy of 50%. That's ok, but certainly not great. Out of 4 input points, we're correctly classifying only 2 of them. Let's try to change some parameters around to improve. For example, you can increase the number of epochs. You'll pass this quiz if you get 75% accuracy. Can you reach 100%?\n",
    "\n",
    "**IMPORTANT PARAMETERS**\n",
    "\n",
    "**categorical cross entropy loss:** If we use categorical cross entropy loss function, then we provide the ground truth as an n-dimensional vector in which all entries are 0 except the entry corresponding to the class, which is 1 (one-hot-encoding).\n",
    "\n",
    "**Sparse categorical cross entropy loss:** If we use sparse categorical cross entropy then we provide the ground truth as single integer unit only rather than as an n-dimensional vector. Here the integer represents the class of the data.\n",
    "\n",
    "If we have 10 classes (0–9) and let us say an input belongs to class 2, then the label for this input will be:\n",
    "\n",
    "**categorical:** 0 0 1 0 0 0 0 0 0 0 (one-hot-encoding)\n",
    "\n",
    "**sparse:** 2 (integer values)\n",
    "\n",
    "**Adam (Adaptive moment estimation)** is an optimization algorithm that can be used instead of the classical stochastic gradient descent procedure to update network weights iterative based in training data."
   ]
  },
  {
   "cell_type": "code",
   "execution_count": 35,
   "metadata": {},
   "outputs": [
    {
     "name": "stdout",
     "output_type": "stream",
     "text": [
      "Model: \"sequential_19\"\n",
      "_________________________________________________________________\n",
      "Layer (type)                 Output Shape              Param #   \n",
      "=================================================================\n",
      "dense_35 (Dense)             (None, 32)                96        \n",
      "_________________________________________________________________\n",
      "activation_33 (Activation)   (None, 32)                0         \n",
      "_________________________________________________________________\n",
      "dense_36 (Dense)             (None, 2)                 66        \n",
      "_________________________________________________________________\n",
      "activation_34 (Activation)   (None, 2)                 0         \n",
      "=================================================================\n",
      "Total params: 162\n",
      "Trainable params: 162\n",
      "Non-trainable params: 0\n",
      "_________________________________________________________________\n",
      "4/4 [==============================] - 0s 10ms/step\n",
      "\n",
      "Accuracy: 0.75\n",
      "\n",
      "Predictions:\n",
      "[[0.63439095 0.6296618 ]\n",
      " [0.87604564 0.60210353]\n",
      " [0.18898514 0.33990574]\n",
      " [0.5054604  0.301515  ]]\n"
     ]
    }
   ],
   "source": [
    "import numpy as np\n",
    "\n",
    "np.random.seed(42)\n",
    "\n",
    "X = np.array([[0,0], [0,1], [1,0], [1,1]]).astype('float32')\n",
    "y = np.array([[0],[1],[1],[0]]).astype('float32')\n",
    "\n",
    "# Initial Setup for Keras\n",
    "from keras.models import Sequential\n",
    "from keras.layers.core import Dense, Activation, Flatten\n",
    "from keras.utils.np_utils import to_categorical\n",
    "\n",
    "# One Hit Encoding the Output\n",
    "y = to_categorical(y)\n",
    "\n",
    "# Building the model\n",
    "model_xor = Sequential()\n",
    "model_xor.add(Dense(32, input_dim=X.shape[1]))\n",
    "model_xor.add(Activation('tanh'))\n",
    "model_xor.add(Dense(2))\n",
    "model_xor.add(Activation('sigmoid'))\n",
    "\n",
    "model_xor.compile(loss='categorical_crossentropy', optimizer='adam', metrics=['accuracy'])\n",
    "\n",
    "model_xor.summary()\n",
    "\n",
    "# Fitting the Model\n",
    "history = model_xor.fit(X, y, epochs=100, verbose=0)\n",
    "\n",
    "# Scoring the Model\n",
    "score = model_xor.evaluate(X, y)\n",
    "print(f\"\\nAccuracy: {score[-1]}\")\n",
    "\n",
    "# Checking the predictions\n",
    "print(\"\\nPredictions:\")\n",
    "print(model_xor.predict_proba(X))"
   ]
  }
 ],
 "metadata": {
  "kernelspec": {
   "display_name": "Python 3",
   "language": "python",
   "name": "python3"
  },
  "language_info": {
   "codemirror_mode": {
    "name": "ipython",
    "version": 3
   },
   "file_extension": ".py",
   "mimetype": "text/x-python",
   "name": "python",
   "nbconvert_exporter": "python",
   "pygments_lexer": "ipython3",
   "version": "3.7.6"
  }
 },
 "nbformat": 4,
 "nbformat_minor": 2
}
