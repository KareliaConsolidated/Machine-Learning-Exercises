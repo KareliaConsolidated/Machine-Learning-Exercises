{
 "cells": [
  {
   "cell_type": "markdown",
   "metadata": {},
   "source": [
    "### Decision Trees in sklearn\n",
    "\n",
    "##### Hyperparameters\n",
    "###### When we define the model, we can specify the hyperparameters. In practice, the most common ones are\n",
    "\n",
    "* max_depth: The maximum number of levels in the tree.\n",
    "* min_samples_leaf: The minimum number of samples allowed in a leaf.\n",
    "* min_samples_split: The minimum number of samples required to split an internal node.\n",
    "* max_features : The number of features to consider when looking for the best split."
   ]
  },
  {
   "cell_type": "code",
   "execution_count": 5,
   "metadata": {},
   "outputs": [
    {
     "data": {
      "text/plain": [
       "1.0"
      ]
     },
     "execution_count": 5,
     "metadata": {},
     "output_type": "execute_result"
    }
   ],
   "source": [
    "# Import Statements\n",
    "from sklearn.tree import DecisionTreeClassifier\n",
    "from sklearn.metrics import accuracy_score\n",
    "import pandas as pd\n",
    "import numpy as np\n",
    "\n",
    "# Read the Data\n",
    "data = np.asarray(pd.read_csv('Datasets/LinearRegression/decision_trees_data.csv', header=None))\n",
    "\n",
    "# Assign the features to the variable X, and the labels to the variable y.\n",
    "X = data[:,:2]\n",
    "y = data[:,2]\n",
    "\n",
    "# Create the Decision Tree Model and assign it to the variable model\n",
    "model = DecisionTreeClassifier()\n",
    "\n",
    "# Fit the Model\n",
    "model.fit(X,y)\n",
    "\n",
    "# Make Predictions. Store them in the variable y_pred\n",
    "y_pred = model.predict(X)\n",
    "\n",
    "# Calculate the accuracy and assign it to the variable acc\n",
    "acc = accuracy_score(y,y_pred)\n",
    "acc"
   ]
  }
 ],
 "metadata": {
  "kernelspec": {
   "display_name": "Python 3",
   "language": "python",
   "name": "python3"
  },
  "language_info": {
   "codemirror_mode": {
    "name": "ipython",
    "version": 3
   },
   "file_extension": ".py",
   "mimetype": "text/x-python",
   "name": "python",
   "nbconvert_exporter": "python",
   "pygments_lexer": "ipython3",
   "version": "3.7.4"
  }
 },
 "nbformat": 4,
 "nbformat_minor": 2
}
